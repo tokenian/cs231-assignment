{
 "cells": [
  {
   "cell_type": "markdown",
   "metadata": {},
   "source": [
    "# Image features exercise\n",
    "*Complete and hand in this completed worksheet (including its outputs and any supporting code outside of the worksheet) with your assignment submission. For more details see the [assignments page](http://vision.stanford.edu/teaching/cs231n/assignments.html) on the course website.*\n",
    "\n",
    "We have seen that we can achieve reasonable performance on an image classification task by training a linear classifier on the pixels of the input image. In this exercise we will show that we can improve our classification performance by training linear classifiers not on raw pixels but on features that are computed from the raw pixels.\n",
    "\n",
    "All of your work for this exercise will be done in this notebook."
   ]
  },
  {
   "cell_type": "code",
   "execution_count": 1,
   "metadata": {
    "ExecuteTime": {
     "end_time": "2019-02-26T01:31:37.848001Z",
     "start_time": "2019-02-26T01:31:33.837001Z"
    }
   },
   "outputs": [],
   "source": [
    "import random\n",
    "import numpy as np\n",
    "from cs231n.data_utils import load_CIFAR10\n",
    "import matplotlib.pyplot as plt\n",
    "\n",
    "from __future__ import print_function\n",
    "\n",
    "%matplotlib inline\n",
    "plt.rcParams['figure.figsize'] = (20.0, 16.0) # set default size of plots\n",
    "plt.rcParams['image.interpolation'] = 'nearest'\n",
    "plt.rcParams['image.cmap'] = 'gray'\n",
    "\n",
    "# for auto-reloading extenrnal modules\n",
    "# see http://stackoverflow.com/questions/1907993/autoreload-of-modules-in-ipython\n",
    "%load_ext autoreload\n",
    "%autoreload 2"
   ]
  },
  {
   "cell_type": "markdown",
   "metadata": {},
   "source": [
    "## Load data\n",
    "Similar to previous exercises, we will load CIFAR-10 data from disk."
   ]
  },
  {
   "cell_type": "code",
   "execution_count": 2,
   "metadata": {
    "ExecuteTime": {
     "end_time": "2019-02-26T01:31:49.237001Z",
     "start_time": "2019-02-26T01:31:44.716001Z"
    }
   },
   "outputs": [],
   "source": [
    "from cs231n.features import color_histogram_hsv, hog_feature\n",
    "\n",
    "def get_CIFAR10_data(num_training=49000, num_validation=1000, num_test=1000):\n",
    "    # Load the raw CIFAR-10 data\n",
    "    cifar10_dir = 'cs231n/datasets/cifar-10-batches-py'\n",
    "\n",
    "    X_train, y_train, X_test, y_test = load_CIFAR10(cifar10_dir)\n",
    "    \n",
    "    # Subsample the data\n",
    "    mask = list(range(num_training, num_training + num_validation))\n",
    "    X_val = X_train[mask]\n",
    "    y_val = y_train[mask]\n",
    "    mask = list(range(num_training))\n",
    "    X_train = X_train[mask]\n",
    "    y_train = y_train[mask]\n",
    "    mask = list(range(num_test))\n",
    "    X_test = X_test[mask]\n",
    "    y_test = y_test[mask]\n",
    "    \n",
    "    return X_train, y_train, X_val, y_val, X_test, y_test\n",
    "\n",
    "# Cleaning up variables to prevent loading data multiple times (which may cause memory issue)\n",
    "try:\n",
    "   del X_train, y_train\n",
    "   del X_test, y_test\n",
    "   print('Clear previously loaded data.')\n",
    "except:\n",
    "   pass\n",
    "\n",
    "X_train, y_train, X_val, y_val, X_test, y_test = get_CIFAR10_data()"
   ]
  },
  {
   "cell_type": "markdown",
   "metadata": {},
   "source": [
    "## Extract Features\n",
    "For each image we will compute a Histogram of Oriented\n",
    "Gradients (HOG) as well as a color histogram using the hue channel in HSV\n",
    "color space. We form our final feature vector for each image by concatenating\n",
    "the HOG and color histogram feature vectors.\n",
    "\n",
    "Roughly speaking, HOG should capture the texture of the image while ignoring\n",
    "color information, and the color histogram represents the color of the input\n",
    "image while ignoring texture. As a result, we expect that using both together\n",
    "ought to work better than using either alone. Verifying this assumption would\n",
    "be a good thing to try for your interests.\n",
    "\n",
    "The `hog_feature` and `color_histogram_hsv` functions both operate on a single\n",
    "image and return a feature vector for that image. The extract_features\n",
    "function takes a set of images and a list of feature functions and evaluates\n",
    "each feature function on each image, storing the results in a matrix where\n",
    "each column is the concatenation of all feature vectors for a single image."
   ]
  },
  {
   "cell_type": "code",
   "execution_count": 24,
   "metadata": {
    "ExecuteTime": {
     "end_time": "2019-02-26T02:55:09.388001Z",
     "start_time": "2019-02-26T02:55:09.277001Z"
    }
   },
   "outputs": [],
   "source": [
    "img = X_train[0]"
   ]
  },
  {
   "cell_type": "code",
   "execution_count": 33,
   "metadata": {
    "ExecuteTime": {
     "end_time": "2019-02-26T02:57:31.835001Z",
     "start_time": "2019-02-26T02:57:31.724001Z"
    }
   },
   "outputs": [],
   "source": [
    "first_image_features = []"
   ]
  },
  {
   "cell_type": "code",
   "execution_count": 34,
   "metadata": {
    "ExecuteTime": {
     "end_time": "2019-02-26T02:58:03.857001Z",
     "start_time": "2019-02-26T02:58:03.742001Z"
    }
   },
   "outputs": [],
   "source": [
    "first_image_features.append(hog_feature(img))\n",
    "first_image_features.append(color_histogram_hsv(img))"
   ]
  },
  {
   "cell_type": "code",
   "execution_count": 49,
   "metadata": {
    "ExecuteTime": {
     "end_time": "2019-02-26T03:05:23.786001Z",
     "start_time": "2019-02-26T03:05:23.676001Z"
    }
   },
   "outputs": [
    {
     "data": {
      "text/plain": [
       "(32, 32, 3)"
      ]
     },
     "execution_count": 49,
     "metadata": {},
     "output_type": "execute_result"
    }
   ],
   "source": [
    "nbin=10\n",
    "xmin=0\n",
    "xmax=255\n",
    "normalized=True\n",
    "ndim = img.ndim\n",
    "bins = np.linspace(xmin, xmax, nbin+1)"
   ]
  },
  {
   "cell_type": "code",
   "execution_count": 59,
   "metadata": {
    "ExecuteTime": {
     "end_time": "2019-02-26T03:20:47.694001Z",
     "start_time": "2019-02-26T03:20:47.581001Z"
    }
   },
   "outputs": [],
   "source": [
    "hsv = matplotlib.colors.rgb_to_hsv(img/xmax) * xmax"
   ]
  },
  {
   "cell_type": "code",
   "execution_count": 61,
   "metadata": {
    "ExecuteTime": {
     "end_time": "2019-02-26T03:21:50.975001Z",
     "start_time": "2019-02-26T03:21:50.860001Z"
    }
   },
   "outputs": [],
   "source": [
    "imhist, bin_edges = np.histogram(hsv[:,:,0], bins=bins, density=normalized)"
   ]
  },
  {
   "cell_type": "code",
   "execution_count": 71,
   "metadata": {
    "ExecuteTime": {
     "end_time": "2019-02-26T03:28:46.859001Z",
     "start_time": "2019-02-26T03:28:46.748001Z"
    }
   },
   "outputs": [
    {
     "data": {
      "text/plain": [
       "array([25.5, 25.5, 25.5, 25.5, 25.5, 25.5, 25.5, 25.5, 25.5, 25.5])"
      ]
     },
     "execution_count": 71,
     "metadata": {},
     "output_type": "execute_result"
    }
   ],
   "source": [
    "bin_edges\n",
    "np.diff(bin_edges)"
   ]
  },
  {
   "cell_type": "code",
   "execution_count": 68,
   "metadata": {
    "ExecuteTime": {
     "end_time": "2019-02-26T03:27:10.436001Z",
     "start_time": "2019-02-26T03:27:10.188001Z"
    }
   },
   "outputs": [
    {
     "data": {
      "text/plain": [
       "(array([0.03921569, 0.        , 0.        , 0.        , 0.        ,\n",
       "        0.        , 0.        , 0.        , 0.        , 0.        ]),\n",
       " array([  0. ,  25.5,  51. ,  76.5, 102. , 127.5, 153. , 178.5, 204. ,\n",
       "        229.5, 255. ]),\n",
       " <a list of 10 Patch objects>)"
      ]
     },
     "execution_count": 68,
     "metadata": {},
     "output_type": "execute_result"
    },
    {
     "data": {
      "image/png": "[encoded data removed]",
      "text/plain": [
       "<Figure size 432x288 with 1 Axes>"
      ]
     },
     "metadata": {
      "needs_background": "light"
     },
     "output_type": "display_data"
    }
   ],
   "source": [
    "plt.hist(imhist,bins=bin_edges,density=True)"
   ]
  },
  {
   "cell_type": "code",
   "execution_count": 40,
   "metadata": {
    "ExecuteTime": {
     "end_time": "2019-02-26T02:59:10.187001Z",
     "start_time": "2019-02-26T02:59:10.076001Z"
    }
   },
   "outputs": [
    {
     "data": {
      "text/plain": [
       "(154,)"
      ]
     },
     "execution_count": 40,
     "metadata": {},
     "output_type": "execute_result"
    }
   ],
   "source": [
    "def color_histogram_hsv(im, nbin=10, xmin=0, xmax=255, normalized=True):\n",
    "  ndim = im.ndim\n",
    "  bins = np.linspace(xmin, xmax, nbin+1)\n",
    "  hsv = matplotlib.colors.rgb_to_hsv(im/xmax) * xmax\n",
    "  imhist, bin_edges = np.histogram(hsv[:,:,0], bins=bins, density=normalized)\n",
    "  imhist = imhist * np.diff(bin_edges)\n",
    "\n",
    "  # return histogram\n",
    "  return imhist"
   ]
  },
  {
   "cell_type": "code",
   "execution_count": 81,
   "metadata": {
    "ExecuteTime": {
     "end_time": "2019-02-26T06:24:30.657001Z",
     "start_time": "2019-02-26T06:24:30.542001Z"
    }
   },
   "outputs": [
    {
     "name": "stdout",
     "output_type": "stream",
     "text": [
      "(4, 4, 9)\n"
     ]
    },
    {
     "data": {
      "text/plain": [
       "(144,)"
      ]
     },
     "execution_count": 81,
     "metadata": {},
     "output_type": "execute_result"
    }
   ],
   "source": [
    "hog_feature(img).shape"
   ]
  },
  {
   "cell_type": "code",
   "execution_count": 78,
   "metadata": {
    "ExecuteTime": {
     "end_time": "2019-02-26T03:39:41.145001Z",
     "start_time": "2019-02-26T03:39:41.035001Z"
    }
   },
   "outputs": [
    {
     "data": {
      "text/plain": [
       "(49000, 32, 32)"
      ]
     },
     "execution_count": 78,
     "metadata": {},
     "output_type": "execute_result"
    }
   ],
   "source": [
    "X_train[...,0].shape"
   ]
  },
  {
   "cell_type": "code",
   "execution_count": 3,
   "metadata": {
    "ExecuteTime": {
     "end_time": "2019-02-26T01:40:28.757001Z",
     "start_time": "2019-02-26T01:39:40.508001Z"
    }
   },
   "outputs": [
    {
     "name": "stdout",
     "output_type": "stream",
     "text": [
      "Done extracting features for 1000 / 49000 images\n",
      "Done extracting features for 2000 / 49000 images\n",
      "Done extracting features for 3000 / 49000 images\n",
      "Done extracting features for 4000 / 49000 images\n",
      "Done extracting features for 5000 / 49000 images\n",
      "Done extracting features for 6000 / 49000 images\n",
      "Done extracting features for 7000 / 49000 images\n",
      "Done extracting features for 8000 / 49000 images\n",
      "Done extracting features for 9000 / 49000 images\n",
      "Done extracting features for 10000 / 49000 images\n",
      "Done extracting features for 11000 / 49000 images\n",
      "Done extracting features for 12000 / 49000 images\n",
      "Done extracting features for 13000 / 49000 images\n",
      "Done extracting features for 14000 / 49000 images\n",
      "Done extracting features for 15000 / 49000 images\n",
      "Done extracting features for 16000 / 49000 images\n",
      "Done extracting features for 17000 / 49000 images\n",
      "Done extracting features for 18000 / 49000 images\n",
      "Done extracting features for 19000 / 49000 images\n",
      "Done extracting features for 20000 / 49000 images\n",
      "Done extracting features for 21000 / 49000 images\n",
      "Done extracting features for 22000 / 49000 images\n",
      "Done extracting features for 23000 / 49000 images\n",
      "Done extracting features for 24000 / 49000 images\n",
      "Done extracting features for 25000 / 49000 images\n",
      "Done extracting features for 26000 / 49000 images\n",
      "Done extracting features for 27000 / 49000 images\n",
      "Done extracting features for 28000 / 49000 images\n",
      "Done extracting features for 29000 / 49000 images\n",
      "Done extracting features for 30000 / 49000 images\n",
      "Done extracting features for 31000 / 49000 images\n",
      "Done extracting features for 32000 / 49000 images\n",
      "Done extracting features for 33000 / 49000 images\n",
      "Done extracting features for 34000 / 49000 images\n",
      "Done extracting features for 35000 / 49000 images\n",
      "Done extracting features for 36000 / 49000 images\n",
      "Done extracting features for 37000 / 49000 images\n",
      "Done extracting features for 38000 / 49000 images\n",
      "Done extracting features for 39000 / 49000 images\n",
      "Done extracting features for 40000 / 49000 images\n",
      "Done extracting features for 41000 / 49000 images\n",
      "Done extracting features for 42000 / 49000 images\n",
      "Done extracting features for 43000 / 49000 images\n",
      "Done extracting features for 44000 / 49000 images\n",
      "Done extracting features for 45000 / 49000 images\n",
      "Done extracting features for 46000 / 49000 images\n",
      "Done extracting features for 47000 / 49000 images\n",
      "Done extracting features for 48000 / 49000 images\n"
     ]
    }
   ],
   "source": [
    "from cs231n.features import *\n",
    "\n",
    "num_color_bins = 10 # Number of bins in the color histogram\n",
    "feature_fns = [hog_feature, lambda img: color_histogram_hsv(img, nbin=num_color_bins)]\n",
    "X_train_feats = extract_features(X_train, feature_fns, verbose=True)\n",
    "X_val_feats = extract_features(X_val, feature_fns)\n",
    "X_test_feats = extract_features(X_test, feature_fns)\n",
    "\n",
    "# Preprocessing: Subtract the mean feature\n",
    "mean_feat = np.mean(X_train_feats, axis=0, keepdims=True)\n",
    "X_train_feats -= mean_feat\n",
    "X_val_feats -= mean_feat\n",
    "X_test_feats -= mean_feat\n",
    "\n",
    "# Preprocessing: Divide by standard deviation. This ensures that each feature\n",
    "# has roughly the same scale.\n",
    "std_feat = np.std(X_train_feats, axis=0, keepdims=True)\n",
    "X_train_feats /= std_feat\n",
    "X_val_feats /= std_feat\n",
    "X_test_feats /= std_feat\n",
    "\n",
    "# Preprocessing: Add a bias dimension\n",
    "X_train_feats = np.hstack([X_train_feats, np.ones((X_train_feats.shape[0], 1))])\n",
    "X_val_feats = np.hstack([X_val_feats, np.ones((X_val_feats.shape[0], 1))])\n",
    "X_test_feats = np.hstack([X_test_feats, np.ones((X_test_feats.shape[0], 1))])"
   ]
  },
  {
   "cell_type": "markdown",
   "metadata": {},
   "source": [
    "## Train SVM on features\n",
    "Using the multiclass SVM code developed earlier in the assignment, train SVMs on top of the features extracted above; this should achieve better results than training SVMs directly on top of raw pixels."
   ]
  },
  {
   "cell_type": "code",
   "execution_count": null,
   "metadata": {},
   "outputs": [],
   "source": [
    "X_train."
   ]
  },
  {
   "cell_type": "code",
   "execution_count": 7,
   "metadata": {
    "ExecuteTime": {
     "end_time": "2019-02-26T01:44:47.112001Z",
     "start_time": "2019-02-26T01:44:43.004001Z"
    }
   },
   "outputs": [
    {
     "name": "stdout",
     "output_type": "stream",
     "text": [
      "new search begin:\n",
      "iteration 0 / 1500: loss 87.138851\n",
      "iteration 100 / 1500: loss 85.591592\n",
      "iteration 200 / 1500: loss 84.069037\n",
      "iteration 300 / 1500: loss 82.595077\n",
      "iteration 400 / 1500: loss 81.146049\n",
      "iteration 500 / 1500: loss 79.693268\n",
      "iteration 600 / 1500: loss 78.321116\n",
      "iteration 700 / 1500: loss 76.920235\n",
      "iteration 800 / 1500: loss 75.573449\n",
      "iteration 900 / 1500: loss 74.278456\n",
      "iteration 1000 / 1500: loss 72.971152\n",
      "iteration 1100 / 1500: loss 71.702274\n",
      "iteration 1200 / 1500: loss 70.463458\n",
      "iteration 1300 / 1500: loss 69.248552\n",
      "iteration 1400 / 1500: loss 68.061645\n",
      "new search begin:\n",
      "iteration 0 / 1500: loss 790.226985\n",
      "iteration 100 / 1500: loss 648.542856\n",
      "iteration 200 / 1500: loss 532.561967\n",
      "iteration 300 / 1500: loss 437.608592\n",
      "iteration 400 / 1500: loss 359.880741\n",
      "iteration 500 / 1500: loss 296.249047\n",
      "iteration 600 / 1500: loss 244.157243\n",
      "iteration 700 / 1500: loss 201.509565\n",
      "iteration 800 / 1500: loss 166.601080\n",
      "iteration 900 / 1500: loss 138.020892\n",
      "iteration 1000 / 1500: loss 114.617304\n",
      "iteration 1100 / 1500: loss 95.463852\n",
      "iteration 1200 / 1500: loss 79.784025\n",
      "iteration 1300 / 1500: loss 66.949172\n",
      "iteration 1400 / 1500: loss 56.438397\n",
      "new search begin:\n",
      "iteration 0 / 1500: loss 8099.501736\n",
      "iteration 100 / 1500: loss 1092.960073\n",
      "iteration 200 / 1500: loss 154.229303\n",
      "iteration 300 / 1500: loss 28.457215\n",
      "iteration 400 / 1500: loss 11.606667\n",
      "iteration 500 / 1500: loss 9.349286\n",
      "iteration 600 / 1500: loss 9.046830\n",
      "iteration 700 / 1500: loss 9.006274\n",
      "iteration 800 / 1500: loss 9.000835\n",
      "iteration 900 / 1500: loss 9.000109\n",
      "iteration 1000 / 1500: loss 9.000012\n",
      "iteration 1100 / 1500: loss 8.999999\n",
      "iteration 1200 / 1500: loss 8.999997\n",
      "iteration 1300 / 1500: loss 8.999997\n",
      "iteration 1400 / 1500: loss 8.999996\n",
      "new search begin:\n",
      "iteration 0 / 1500: loss 82.019557\n",
      "iteration 100 / 1500: loss 68.775034\n",
      "iteration 200 / 1500: loss 57.944164\n",
      "iteration 300 / 1500: loss 49.069113\n",
      "iteration 400 / 1500: loss 41.801456\n",
      "iteration 500 / 1500: loss 35.854395\n",
      "iteration 600 / 1500: loss 30.974966\n",
      "iteration 700 / 1500: loss 26.989791\n",
      "iteration 800 / 1500: loss 23.727274\n",
      "iteration 900 / 1500: loss 21.056642\n",
      "iteration 1000 / 1500: loss 18.871742\n",
      "iteration 1100 / 1500: loss 17.080703\n",
      "iteration 1200 / 1500: loss 15.616962\n",
      "iteration 1300 / 1500: loss 14.418008\n",
      "iteration 1400 / 1500: loss 13.433282\n",
      "new search begin:\n",
      "iteration 0 / 1500: loss 787.120545\n",
      "iteration 100 / 1500: loss 113.253955\n",
      "iteration 200 / 1500: loss 22.968458\n",
      "iteration 300 / 1500: loss 10.871250\n",
      "iteration 400 / 1500: loss 9.250730\n",
      "iteration 500 / 1500: loss 9.033548\n",
      "iteration 600 / 1500: loss 9.004469\n",
      "iteration 700 / 1500: loss 9.000554\n",
      "iteration 800 / 1500: loss 9.000045\n",
      "iteration 900 / 1500: loss 8.999971\n",
      "iteration 1000 / 1500: loss 8.999967\n",
      "iteration 1100 / 1500: loss 8.999971\n",
      "iteration 1200 / 1500: loss 8.999950\n",
      "iteration 1300 / 1500: loss 8.999961\n",
      "iteration 1400 / 1500: loss 8.999954\n",
      "new search begin:\n",
      "iteration 0 / 1500: loss 7584.603163\n",
      "iteration 100 / 1500: loss 9.000003\n",
      "iteration 200 / 1500: loss 8.999997\n",
      "iteration 300 / 1500: loss 8.999997\n",
      "iteration 400 / 1500: loss 8.999996\n",
      "iteration 500 / 1500: loss 8.999995\n",
      "iteration 600 / 1500: loss 8.999997\n",
      "iteration 700 / 1500: loss 8.999997\n",
      "iteration 800 / 1500: loss 8.999997\n",
      "iteration 900 / 1500: loss 8.999996\n",
      "iteration 1000 / 1500: loss 8.999997\n",
      "iteration 1100 / 1500: loss 8.999997\n",
      "iteration 1200 / 1500: loss 8.999997\n",
      "iteration 1300 / 1500: loss 8.999996\n",
      "iteration 1400 / 1500: loss 8.999998\n",
      "new search begin:\n",
      "iteration 0 / 1500: loss 85.967621\n",
      "iteration 100 / 1500: loss 19.315119\n",
      "iteration 200 / 1500: loss 10.380943\n",
      "iteration 300 / 1500: loss 9.184920\n",
      "iteration 400 / 1500: loss 9.024955\n",
      "iteration 500 / 1500: loss 9.002954\n",
      "iteration 600 / 1500: loss 8.999983\n",
      "iteration 700 / 1500: loss 8.999706\n",
      "iteration 800 / 1500: loss 8.999743\n",
      "iteration 900 / 1500: loss 8.999626\n",
      "iteration 1000 / 1500: loss 8.999617\n",
      "iteration 1100 / 1500: loss 8.999663\n",
      "iteration 1200 / 1500: loss 8.999599\n",
      "iteration 1300 / 1500: loss 8.999615\n",
      "iteration 1400 / 1500: loss 8.999686\n",
      "new search begin:\n",
      "iteration 0 / 1500: loss 713.733126\n",
      "iteration 100 / 1500: loss 8.999968\n",
      "iteration 200 / 1500: loss 8.999964\n",
      "iteration 300 / 1500: loss 8.999963\n",
      "iteration 400 / 1500: loss 8.999960\n",
      "iteration 500 / 1500: loss 8.999972\n",
      "iteration 600 / 1500: loss 8.999969\n",
      "iteration 700 / 1500: loss 8.999971\n",
      "iteration 800 / 1500: loss 8.999971\n",
      "iteration 900 / 1500: loss 8.999962\n",
      "iteration 1000 / 1500: loss 8.999972\n",
      "iteration 1100 / 1500: loss 8.999965\n",
      "iteration 1200 / 1500: loss 8.999963\n",
      "iteration 1300 / 1500: loss 8.999968\n",
      "iteration 1400 / 1500: loss 8.999970\n",
      "new search begin:\n",
      "iteration 0 / 1500: loss 7899.287348\n",
      "iteration 100 / 1500: loss 9.000001\n",
      "iteration 200 / 1500: loss 8.999999\n",
      "iteration 300 / 1500: loss 9.000000\n",
      "iteration 400 / 1500: loss 9.000000\n",
      "iteration 500 / 1500: loss 8.999999\n",
      "iteration 600 / 1500: loss 9.000000\n",
      "iteration 700 / 1500: loss 9.000001\n",
      "iteration 800 / 1500: loss 9.000000\n",
      "iteration 900 / 1500: loss 9.000000\n",
      "iteration 1000 / 1500: loss 9.000000\n",
      "iteration 1100 / 1500: loss 9.000000\n",
      "iteration 1200 / 1500: loss 9.000001\n",
      "iteration 1300 / 1500: loss 9.000000\n",
      "iteration 1400 / 1500: loss 9.000000\n",
      "lr 1.000000e-09 reg 5.000000e+04 train accuracy: 0.105878 val accuracy: 0.090000\n",
      "lr 1.000000e-09 reg 5.000000e+05 train accuracy: 0.117143 val accuracy: 0.100000\n",
      "lr 1.000000e-09 reg 5.000000e+06 train accuracy: 0.416816 val accuracy: 0.416000\n",
      "lr 1.000000e-08 reg 5.000000e+04 train accuracy: 0.088939 val accuracy: 0.085000\n",
      "lr 1.000000e-08 reg 5.000000e+05 train accuracy: 0.413918 val accuracy: 0.414000\n",
      "lr 1.000000e-08 reg 5.000000e+06 train accuracy: 0.402347 val accuracy: 0.405000\n",
      "lr 1.000000e-07 reg 5.000000e+04 train accuracy: 0.413367 val accuracy: 0.413000\n",
      "lr 1.000000e-07 reg 5.000000e+05 train accuracy: 0.401612 val accuracy: 0.410000\n",
      "lr 1.000000e-07 reg 5.000000e+06 train accuracy: 0.316184 val accuracy: 0.337000\n",
      "best validation accuracy achieved during cross-validation: 0.416000\n"
     ]
    }
   ],
   "source": [
    "# Use the validation set to tune the learning rate and regularization strength\n",
    "\n",
    "from cs231n.classifiers.linear_classifier import LinearSVM\n",
    "\n",
    "learning_rates = [1e-9, 1e-8, 1e-7]\n",
    "regularization_strengths = [5e4, 5e5, 5e6]\n",
    "\n",
    "results = {}\n",
    "best_val = -1\n",
    "best_svm = None\n",
    "\n",
    "################################################################################\n",
    "# TODO:                                                                        #\n",
    "# Use the validation set to set the learning rate and regularization strength. #\n",
    "# This should be identical to the validation that you did for the SVM; save    #\n",
    "# the best trained classifer in best_svm. You might also want to play          #\n",
    "# with different numbers of bins in the color histogram. If you are careful    #\n",
    "# you should be able to get accuracy of near 0.44 on the validation set.       #\n",
    "################################################################################\n",
    "for l in learning_rates:\n",
    "    for r in regularization_strengths:\n",
    "        print(\"new search begin:\")\n",
    "        cv_svm = LinearSVM()\n",
    "        cv_svm.train(X_train_feats, y_train, learning_rate=l, reg=r,\n",
    "                      num_iters=1500, verbose=True)\n",
    "        y_train_pred = cv_svm.predict(X_train_feats)\n",
    "        y_val_pred = cv_svm.predict(X_val_feats)\n",
    "        train_score = np.mean(y_train == y_train_pred)\n",
    "        val_score = np.mean(y_val == y_val_pred)\n",
    "        results[(l,r)] = (train_score, val_score)\n",
    "\n",
    "        if val_score > best_val:\n",
    "            best_val = val_score\n",
    "            best_svm = cv_svm\n",
    "################################################################################\n",
    "#                              END OF YOUR CODE                                #\n",
    "################################################################################\n",
    "\n",
    "# Print out results.\n",
    "for lr, reg in sorted(results):\n",
    "    train_accuracy, val_accuracy = results[(lr, reg)]\n",
    "    print('lr %e reg %e train accuracy: %f val accuracy: %f' % (\n",
    "                lr, reg, train_accuracy, val_accuracy))\n",
    "    \n",
    "print('best validation accuracy achieved during cross-validation: %f' % best_val)"
   ]
  },
  {
   "cell_type": "code",
   "execution_count": 8,
   "metadata": {
    "ExecuteTime": {
     "end_time": "2019-02-26T01:45:10.308001Z",
     "start_time": "2019-02-26T01:45:10.155001Z"
    }
   },
   "outputs": [
    {
     "name": "stdout",
     "output_type": "stream",
     "text": [
      "0.415\n"
     ]
    }
   ],
   "source": [
    "# Evaluate your trained SVM on the test set\n",
    "y_test_pred = best_svm.predict(X_test_feats)\n",
    "test_accuracy = np.mean(y_test == y_test_pred)\n",
    "print(test_accuracy)"
   ]
  },
  {
   "cell_type": "code",
   "execution_count": 9,
   "metadata": {
    "ExecuteTime": {
     "end_time": "2019-02-26T01:45:51.586001Z",
     "start_time": "2019-02-26T01:45:47.067001Z"
    }
   },
   "outputs": [
    {
     "data": {
      "image/png": "[encoded data removed]",
      "text/plain": [
       "<Figure size 432x288 with 80 Axes>"
      ]
     },
     "metadata": {
      "needs_background": "light"
     },
     "output_type": "display_data"
    }
   ],
   "source": [
    "# An important way to gain intuition about how an algorithm works is to\n",
    "# visualize the mistakes that it makes. In this visualization, we show examples\n",
    "# of images that are misclassified by our current system. The first column\n",
    "# shows images that our system labeled as \"plane\" but whose true label is\n",
    "# something other than \"plane\".\n",
    "\n",
    "examples_per_class = 8\n",
    "classes = ['plane', 'car', 'bird', 'cat', 'deer', 'dog', 'frog', 'horse', 'ship', 'truck']\n",
    "for cls, cls_name in enumerate(classes):\n",
    "    idxs = np.where((y_test != cls) & (y_test_pred == cls))[0]\n",
    "    idxs = np.random.choice(idxs, examples_per_class, replace=False)\n",
    "    for i, idx in enumerate(idxs):\n",
    "        plt.subplot(examples_per_class, len(classes), i * len(classes) + cls + 1)\n",
    "        plt.imshow(X_test[idx].astype('uint8'))\n",
    "        plt.axis('off')\n",
    "        if i == 0:\n",
    "            plt.title(cls_name)\n",
    "plt.show()"
   ]
  },
  {
   "cell_type": "markdown",
   "metadata": {},
   "source": [
    "### Inline question 1:\n",
    "Describe the misclassification results that you see. Do they make sense?"
   ]
  },
  {
   "cell_type": "markdown",
   "metadata": {},
   "source": [
    "## Neural Network on image features\n",
    "Earlier in this assigment we saw that training a two-layer neural network on raw pixels achieved better classification performance than linear classifiers on raw pixels. In this notebook we have seen that linear classifiers on image features outperform linear classifiers on raw pixels. \n",
    "\n",
    "For completeness, we should also try training a neural network on image features. This approach should outperform all previous approaches: you should easily be able to achieve over 55% classification accuracy on the test set; our best model achieves about 60% classification accuracy."
   ]
  },
  {
   "cell_type": "code",
   "execution_count": 10,
   "metadata": {
    "ExecuteTime": {
     "end_time": "2019-02-26T01:46:08.408001Z",
     "start_time": "2019-02-26T01:46:08.299001Z"
    }
   },
   "outputs": [
    {
     "name": "stdout",
     "output_type": "stream",
     "text": [
      "(49000, 155)\n",
      "(49000, 154)\n"
     ]
    }
   ],
   "source": [
    "# Preprocessing: Remove the bias dimension\n",
    "# Make sure to run this cell only ONCE\n",
    "print(X_train_feats.shape)\n",
    "X_train_feats = X_train_feats[:, :-1]\n",
    "X_val_feats = X_val_feats[:, :-1]\n",
    "X_test_feats = X_test_feats[:, :-1]\n",
    "\n",
    "print(X_train_feats.shape)"
   ]
  },
  {
   "cell_type": "code",
   "execution_count": 16,
   "metadata": {
    "ExecuteTime": {
     "end_time": "2019-02-26T01:58:44.047001Z",
     "start_time": "2019-02-26T01:55:56.844001Z"
    }
   },
   "outputs": [
    {
     "name": "stdout",
     "output_type": "stream",
     "text": [
      "new search begin:\n",
      "iteration 0 / 2000: loss 3.126558\n",
      "iteration 100 / 2000: loss 3.095816\n",
      "iteration 200 / 2000: loss 3.066236\n",
      "iteration 300 / 2000: loss 3.038513\n",
      "iteration 400 / 2000: loss 3.012418\n",
      "iteration 500 / 2000: loss 2.987359\n",
      "iteration 600 / 2000: loss 2.964271\n",
      "iteration 700 / 2000: loss 2.941961\n",
      "iteration 800 / 2000: loss 2.921082\n",
      "iteration 900 / 2000: loss 2.901255\n",
      "iteration 1000 / 2000: loss 2.882242\n",
      "iteration 1100 / 2000: loss 2.864574\n",
      "iteration 1200 / 2000: loss 2.847445\n",
      "iteration 1300 / 2000: loss 2.831444\n",
      "iteration 1400 / 2000: loss 2.816118\n",
      "iteration 1500 / 2000: loss 2.801450\n",
      "iteration 1600 / 2000: loss 2.787707\n",
      "iteration 1700 / 2000: loss 2.774342\n",
      "iteration 1800 / 2000: loss 2.761885\n",
      "iteration 1900 / 2000: loss 2.749856\n",
      "new search begin:\n",
      "iteration 0 / 2000: loss 2.306657\n",
      "iteration 100 / 2000: loss 2.306656\n",
      "iteration 200 / 2000: loss 2.306655\n",
      "iteration 300 / 2000: loss 2.306654\n",
      "iteration 400 / 2000: loss 2.306654\n",
      "iteration 500 / 2000: loss 2.306653\n",
      "iteration 600 / 2000: loss 2.306653\n",
      "iteration 700 / 2000: loss 2.306652\n",
      "iteration 800 / 2000: loss 2.306651\n",
      "iteration 900 / 2000: loss 2.306650\n",
      "iteration 1000 / 2000: loss 2.306650\n",
      "iteration 1100 / 2000: loss 2.306649\n",
      "iteration 1200 / 2000: loss 2.306648\n",
      "iteration 1300 / 2000: loss 2.306648\n",
      "iteration 1400 / 2000: loss 2.306647\n",
      "iteration 1500 / 2000: loss 2.306647\n",
      "iteration 1600 / 2000: loss 2.306646\n",
      "iteration 1700 / 2000: loss 2.306646\n",
      "iteration 1800 / 2000: loss 2.306645\n",
      "iteration 1900 / 2000: loss 2.306645\n",
      "new search begin:\n",
      "iteration 0 / 2000: loss 2.302750\n",
      "iteration 100 / 2000: loss 2.302750\n",
      "iteration 200 / 2000: loss 2.302750\n",
      "iteration 300 / 2000: loss 2.302750\n",
      "iteration 400 / 2000: loss 2.302750\n",
      "iteration 500 / 2000: loss 2.302750\n",
      "iteration 600 / 2000: loss 2.302750\n",
      "iteration 700 / 2000: loss 2.302750\n",
      "iteration 800 / 2000: loss 2.302750\n",
      "iteration 900 / 2000: loss 2.302750\n",
      "iteration 1000 / 2000: loss 2.302750\n",
      "iteration 1100 / 2000: loss 2.302750\n",
      "iteration 1200 / 2000: loss 2.302750\n",
      "iteration 1300 / 2000: loss 2.302750\n",
      "iteration 1400 / 2000: loss 2.302750\n",
      "iteration 1500 / 2000: loss 2.302750\n",
      "iteration 1600 / 2000: loss 2.302750\n",
      "iteration 1700 / 2000: loss 2.302750\n",
      "iteration 1800 / 2000: loss 2.302750\n",
      "iteration 1900 / 2000: loss 2.302750\n",
      "new search begin:\n",
      "iteration 0 / 2000: loss 2.302790\n",
      "iteration 100 / 2000: loss 2.302790\n",
      "iteration 200 / 2000: loss 2.302790\n",
      "iteration 300 / 2000: loss 2.302790\n",
      "iteration 400 / 2000: loss 2.302790\n",
      "iteration 500 / 2000: loss 2.302790\n",
      "iteration 600 / 2000: loss 2.302790\n",
      "iteration 700 / 2000: loss 2.302790\n",
      "iteration 800 / 2000: loss 2.302790\n",
      "iteration 900 / 2000: loss 2.302790\n",
      "iteration 1000 / 2000: loss 2.302790\n",
      "iteration 1100 / 2000: loss 2.302790\n",
      "iteration 1200 / 2000: loss 2.302790\n",
      "iteration 1300 / 2000: loss 2.302790\n",
      "iteration 1400 / 2000: loss 2.302789\n",
      "iteration 1500 / 2000: loss 2.302790\n",
      "iteration 1600 / 2000: loss 2.302790\n",
      "iteration 1700 / 2000: loss 2.302790\n",
      "iteration 1800 / 2000: loss 2.302790\n",
      "iteration 1900 / 2000: loss 2.302790\n",
      "new search begin:\n",
      "iteration 0 / 2000: loss 2.302831\n",
      "iteration 100 / 2000: loss 2.302831\n",
      "iteration 200 / 2000: loss 2.302831\n",
      "iteration 300 / 2000: loss 2.302831\n",
      "iteration 400 / 2000: loss 2.302831\n",
      "iteration 500 / 2000: loss 2.302831\n",
      "iteration 600 / 2000: loss 2.302831\n",
      "iteration 700 / 2000: loss 2.302831\n",
      "iteration 800 / 2000: loss 2.302831\n",
      "iteration 900 / 2000: loss 2.302831\n",
      "iteration 1000 / 2000: loss 2.302831\n",
      "iteration 1100 / 2000: loss 2.302831\n",
      "iteration 1200 / 2000: loss 2.302831\n",
      "iteration 1300 / 2000: loss 2.302831\n",
      "iteration 1400 / 2000: loss 2.302831\n",
      "iteration 1500 / 2000: loss 2.302831\n",
      "iteration 1600 / 2000: loss 2.302831\n",
      "iteration 1700 / 2000: loss 2.302831\n",
      "iteration 1800 / 2000: loss 2.302831\n",
      "iteration 1900 / 2000: loss 2.302831\n",
      "new search begin:\n",
      "iteration 0 / 2000: loss 3.122644\n",
      "iteration 100 / 2000: loss 2.980611\n",
      "iteration 200 / 2000: loss 2.863234\n",
      "iteration 300 / 2000: loss 2.768564\n",
      "iteration 400 / 2000: loss 2.691577\n",
      "iteration 500 / 2000: loss 2.627574\n",
      "iteration 600 / 2000: loss 2.576342\n",
      "iteration 700 / 2000: loss 2.533187\n",
      "iteration 800 / 2000: loss 2.497905\n",
      "iteration 900 / 2000: loss 2.468532\n",
      "iteration 1000 / 2000: loss 2.443795\n",
      "iteration 1100 / 2000: loss 2.423542\n",
      "iteration 1200 / 2000: loss 2.406193\n",
      "iteration 1300 / 2000: loss 2.391843\n",
      "iteration 1400 / 2000: loss 2.379635\n",
      "iteration 1500 / 2000: loss 2.369239\n",
      "iteration 1600 / 2000: loss 2.360548\n",
      "iteration 1700 / 2000: loss 2.352990\n",
      "iteration 1800 / 2000: loss 2.346675\n",
      "iteration 1900 / 2000: loss 2.341195\n",
      "new search begin:\n",
      "iteration 0 / 2000: loss 2.306698\n",
      "iteration 100 / 2000: loss 2.306694\n",
      "iteration 200 / 2000: loss 2.306690\n",
      "iteration 300 / 2000: loss 2.306686\n",
      "iteration 400 / 2000: loss 2.306682\n",
      "iteration 500 / 2000: loss 2.306678\n",
      "iteration 600 / 2000: loss 2.306675\n",
      "iteration 700 / 2000: loss 2.306672\n",
      "iteration 800 / 2000: loss 2.306668\n",
      "iteration 900 / 2000: loss 2.306665\n",
      "iteration 1000 / 2000: loss 2.306662\n",
      "iteration 1100 / 2000: loss 2.306658\n",
      "iteration 1200 / 2000: loss 2.306655\n",
      "iteration 1300 / 2000: loss 2.306652\n",
      "iteration 1400 / 2000: loss 2.306650\n",
      "iteration 1500 / 2000: loss 2.306646\n",
      "iteration 1600 / 2000: loss 2.306644\n",
      "iteration 1700 / 2000: loss 2.306641\n",
      "iteration 1800 / 2000: loss 2.306638\n",
      "iteration 1900 / 2000: loss 2.306635\n",
      "new search begin:\n",
      "iteration 0 / 2000: loss 2.302749\n",
      "iteration 100 / 2000: loss 2.302749\n",
      "iteration 200 / 2000: loss 2.302749\n",
      "iteration 300 / 2000: loss 2.302749\n",
      "iteration 400 / 2000: loss 2.302749\n",
      "iteration 500 / 2000: loss 2.302749\n",
      "iteration 600 / 2000: loss 2.302749\n",
      "iteration 700 / 2000: loss 2.302749\n",
      "iteration 800 / 2000: loss 2.302749\n",
      "iteration 900 / 2000: loss 2.302749\n",
      "iteration 1000 / 2000: loss 2.302749\n",
      "iteration 1100 / 2000: loss 2.302749\n",
      "iteration 1200 / 2000: loss 2.302749\n",
      "iteration 1300 / 2000: loss 2.302749\n",
      "iteration 1400 / 2000: loss 2.302749\n",
      "iteration 1500 / 2000: loss 2.302749\n",
      "iteration 1600 / 2000: loss 2.302749\n",
      "iteration 1700 / 2000: loss 2.302749\n",
      "iteration 1800 / 2000: loss 2.302749\n",
      "iteration 1900 / 2000: loss 2.302749\n",
      "new search begin:\n",
      "iteration 0 / 2000: loss 2.302789\n",
      "iteration 100 / 2000: loss 2.302789\n",
      "iteration 200 / 2000: loss 2.302789\n",
      "iteration 300 / 2000: loss 2.302789\n",
      "iteration 400 / 2000: loss 2.302789\n",
      "iteration 500 / 2000: loss 2.302789\n",
      "iteration 600 / 2000: loss 2.302789\n",
      "iteration 700 / 2000: loss 2.302789\n",
      "iteration 800 / 2000: loss 2.302789\n",
      "iteration 900 / 2000: loss 2.302789\n",
      "iteration 1000 / 2000: loss 2.302789\n",
      "iteration 1100 / 2000: loss 2.302789\n",
      "iteration 1200 / 2000: loss 2.302789\n",
      "iteration 1300 / 2000: loss 2.302789\n",
      "iteration 1400 / 2000: loss 2.302789\n",
      "iteration 1500 / 2000: loss 2.302789\n",
      "iteration 1600 / 2000: loss 2.302789\n",
      "iteration 1700 / 2000: loss 2.302789\n",
      "iteration 1800 / 2000: loss 2.302789\n",
      "iteration 1900 / 2000: loss 2.302789\n",
      "new search begin:\n",
      "iteration 0 / 2000: loss 2.302830\n",
      "iteration 100 / 2000: loss 2.302830\n",
      "iteration 200 / 2000: loss 2.302830\n",
      "iteration 300 / 2000: loss 2.302830\n",
      "iteration 400 / 2000: loss 2.302830\n",
      "iteration 500 / 2000: loss 2.302830\n",
      "iteration 600 / 2000: loss 2.302830\n",
      "iteration 700 / 2000: loss 2.302830\n",
      "iteration 800 / 2000: loss 2.302830\n",
      "iteration 900 / 2000: loss 2.302830\n",
      "iteration 1000 / 2000: loss 2.302830\n",
      "iteration 1100 / 2000: loss 2.302830\n",
      "iteration 1200 / 2000: loss 2.302830\n",
      "iteration 1300 / 2000: loss 2.302830\n",
      "iteration 1400 / 2000: loss 2.302830\n",
      "iteration 1500 / 2000: loss 2.302830\n",
      "iteration 1600 / 2000: loss 2.302830\n",
      "iteration 1700 / 2000: loss 2.302830\n",
      "iteration 1800 / 2000: loss 2.302830\n",
      "iteration 1900 / 2000: loss 2.302830\n",
      "new search begin:\n",
      "iteration 0 / 2000: loss 3.122186\n"
     ]
    },
    {
     "name": "stderr",
     "output_type": "stream",
     "text": [
      "C:\\Users\\Administrator\\Desktop\\斯坦福C231N ppt\\assignment1\\cs231n\\classifiers\\neural_net.py:104: RuntimeWarning: divide by zero encountered in log\n",
      "  loss = -np.sum(np.log(scores[range(N),y]))/N + 0.5 * reg * np.sum(W1*W1)+ 0.5 * reg * np.sum(W2*W2)\n"
     ]
    },
    {
     "name": "stdout",
     "output_type": "stream",
     "text": [
      "iteration 100 / 2000: loss inf\n"
     ]
    },
    {
     "name": "stderr",
     "output_type": "stream",
     "text": [
      "C:\\Users\\Administrator\\Desktop\\斯坦福C231N ppt\\assignment1\\cs231n\\classifiers\\neural_net.py:104: RuntimeWarning: overflow encountered in double_scalars\n",
      "  loss = -np.sum(np.log(scores[range(N),y]))/N + 0.5 * reg * np.sum(W1*W1)+ 0.5 * reg * np.sum(W2*W2)\n",
      "C:\\Users\\Administrator\\Desktop\\斯坦福C231N ppt\\assignment1\\cs231n\\classifiers\\neural_net.py:101: RuntimeWarning: overflow encountered in subtract\n",
      "  l2 -= max_column\n",
      "C:\\Users\\Administrator\\Desktop\\斯坦福C231N ppt\\assignment1\\cs231n\\classifiers\\neural_net.py:101: RuntimeWarning: invalid value encountered in subtract\n",
      "  l2 -= max_column\n",
      "C:\\ProgramData\\Anaconda3\\envs\\tensorflow\\lib\\site-packages\\numpy\\core\\fromnumeric.py:83: RuntimeWarning: overflow encountered in reduce\n",
      "  return ufunc.reduce(obj, axis, dtype, out, **passkwargs)\n",
      "C:\\Users\\Administrator\\Desktop\\斯坦福C231N ppt\\assignment1\\cs231n\\classifiers\\neural_net.py:79: RuntimeWarning: invalid value encountered in maximum\n",
      "  a1 = np.maximum(l1,0)\n",
      "C:\\ProgramData\\Anaconda3\\envs\\tensorflow\\lib\\site-packages\\numpy\\core\\fromnumeric.py:83: RuntimeWarning: invalid value encountered in reduce\n",
      "  return ufunc.reduce(obj, axis, dtype, out, **passkwargs)\n",
      "C:\\Users\\Administrator\\Desktop\\斯坦福C231N ppt\\assignment1\\cs231n\\classifiers\\neural_net.py:123: RuntimeWarning: invalid value encountered in less_equal\n",
      "  da[a1<=0] = 0 # relu\n"
     ]
    },
    {
     "name": "stdout",
     "output_type": "stream",
     "text": [
      "iteration 200 / 2000: loss nan\n",
      "iteration 300 / 2000: loss nan\n",
      "iteration 400 / 2000: loss nan\n",
      "iteration 500 / 2000: loss nan\n",
      "iteration 600 / 2000: loss nan\n",
      "iteration 700 / 2000: loss nan\n",
      "iteration 800 / 2000: loss nan\n",
      "iteration 900 / 2000: loss nan\n",
      "iteration 1000 / 2000: loss nan\n",
      "iteration 1100 / 2000: loss nan\n",
      "iteration 1200 / 2000: loss nan\n",
      "iteration 1300 / 2000: loss nan\n",
      "iteration 1400 / 2000: loss nan\n",
      "iteration 1500 / 2000: loss nan\n",
      "iteration 1600 / 2000: loss nan\n",
      "iteration 1700 / 2000: loss nan\n",
      "iteration 1800 / 2000: loss nan\n",
      "iteration 1900 / 2000: loss nan\n",
      "new search begin:\n",
      "iteration 0 / 2000: loss 2.306704\n",
      "iteration 100 / 2000: loss 2.302581\n",
      "iteration 200 / 2000: loss 2.302157\n",
      "iteration 300 / 2000: loss 2.302496\n",
      "iteration 400 / 2000: loss 2.302188\n",
      "iteration 500 / 2000: loss 2.301728\n",
      "iteration 600 / 2000: loss 2.302284\n",
      "iteration 700 / 2000: loss 2.303205\n",
      "iteration 800 / 2000: loss 2.302765\n",
      "iteration 900 / 2000: loss 2.302716\n",
      "iteration 1000 / 2000: loss 2.302378\n",
      "iteration 1100 / 2000: loss 2.302403\n",
      "iteration 1200 / 2000: loss 2.303052\n",
      "iteration 1300 / 2000: loss 2.302954\n",
      "iteration 1400 / 2000: loss 2.302898\n",
      "iteration 1500 / 2000: loss 2.301579\n",
      "iteration 1600 / 2000: loss 2.302450\n",
      "iteration 1700 / 2000: loss 2.302099\n",
      "iteration 1800 / 2000: loss 2.302922\n",
      "iteration 1900 / 2000: loss 2.302930\n",
      "new search begin:\n",
      "iteration 0 / 2000: loss 2.302749\n",
      "iteration 100 / 2000: loss 2.302557\n",
      "iteration 200 / 2000: loss 2.302434\n",
      "iteration 300 / 2000: loss 2.302681\n",
      "iteration 400 / 2000: loss 2.302639\n",
      "iteration 500 / 2000: loss 2.303040\n",
      "iteration 600 / 2000: loss 2.302520\n",
      "iteration 700 / 2000: loss 2.302923\n",
      "iteration 800 / 2000: loss 2.302824\n",
      "iteration 900 / 2000: loss 2.302411\n",
      "iteration 1000 / 2000: loss 2.302150\n",
      "iteration 1100 / 2000: loss 2.302670\n",
      "iteration 1200 / 2000: loss 2.302535\n",
      "iteration 1300 / 2000: loss 2.302945\n",
      "iteration 1400 / 2000: loss 2.303048\n",
      "iteration 1500 / 2000: loss 2.302372\n",
      "iteration 1600 / 2000: loss 2.302570\n",
      "iteration 1700 / 2000: loss 2.302559\n",
      "iteration 1800 / 2000: loss 2.302524\n",
      "iteration 1900 / 2000: loss 2.302538\n",
      "new search begin:\n",
      "iteration 0 / 2000: loss 2.302790\n",
      "iteration 100 / 2000: loss 2.302831\n",
      "iteration 200 / 2000: loss 2.302465\n",
      "iteration 300 / 2000: loss 2.302452\n",
      "iteration 400 / 2000: loss 2.302329\n",
      "iteration 500 / 2000: loss 2.302544\n",
      "iteration 600 / 2000: loss 2.302512\n",
      "iteration 700 / 2000: loss 2.302654\n",
      "iteration 800 / 2000: loss 2.302545\n",
      "iteration 900 / 2000: loss 2.302520\n",
      "iteration 1000 / 2000: loss 2.302495\n",
      "iteration 1100 / 2000: loss 2.302747\n",
      "iteration 1200 / 2000: loss 2.301931\n",
      "iteration 1300 / 2000: loss 2.302229\n",
      "iteration 1400 / 2000: loss 2.301954\n",
      "iteration 1500 / 2000: loss 2.301818\n",
      "iteration 1600 / 2000: loss 2.302879\n",
      "iteration 1700 / 2000: loss 2.302670\n",
      "iteration 1800 / 2000: loss 2.302896\n",
      "iteration 1900 / 2000: loss 2.302603\n",
      "new search begin:\n",
      "iteration 0 / 2000: loss 2.302832\n",
      "iteration 100 / 2000: loss 2.302693\n",
      "iteration 200 / 2000: loss 2.302610\n",
      "iteration 300 / 2000: loss 2.302982\n",
      "iteration 400 / 2000: loss 2.302561\n",
      "iteration 500 / 2000: loss 2.302653\n",
      "iteration 600 / 2000: loss 2.302610\n",
      "iteration 700 / 2000: loss 2.302271\n",
      "iteration 800 / 2000: loss 2.301720\n",
      "iteration 900 / 2000: loss 2.302206\n",
      "iteration 1000 / 2000: loss 2.302459\n",
      "iteration 1100 / 2000: loss 2.302869\n",
      "iteration 1200 / 2000: loss 2.301779\n",
      "iteration 1300 / 2000: loss 2.302847\n",
      "iteration 1400 / 2000: loss 2.303127\n",
      "iteration 1500 / 2000: loss 2.302318\n",
      "iteration 1600 / 2000: loss 2.302048\n",
      "iteration 1700 / 2000: loss 2.303591\n",
      "iteration 1800 / 2000: loss 2.302396\n",
      "iteration 1900 / 2000: loss 2.302275\n",
      "new search begin:\n",
      "iteration 0 / 2000: loss 3.117196\n",
      "iteration 100 / 2000: loss 2.302596\n",
      "iteration 200 / 2000: loss 2.302581\n",
      "iteration 300 / 2000: loss 2.302571\n",
      "iteration 400 / 2000: loss 2.302558\n",
      "iteration 500 / 2000: loss 2.302611\n",
      "iteration 600 / 2000: loss 2.302528\n",
      "iteration 700 / 2000: loss 2.302556\n",
      "iteration 800 / 2000: loss 2.302628\n",
      "iteration 900 / 2000: loss 2.302602\n",
      "iteration 1000 / 2000: loss 2.302624\n",
      "iteration 1100 / 2000: loss 2.302524\n",
      "iteration 1200 / 2000: loss 2.302591\n",
      "iteration 1300 / 2000: loss 2.302630\n",
      "iteration 1400 / 2000: loss 2.302634\n",
      "iteration 1500 / 2000: loss 2.302647\n",
      "iteration 1600 / 2000: loss 2.302589\n",
      "iteration 1700 / 2000: loss 2.302626\n",
      "iteration 1800 / 2000: loss 2.302590\n",
      "iteration 1900 / 2000: loss 2.302677\n",
      "new search begin:\n",
      "iteration 0 / 2000: loss 2.306704\n",
      "iteration 100 / 2000: loss 2.303164\n",
      "iteration 200 / 2000: loss 2.302677\n",
      "iteration 300 / 2000: loss 2.302617\n",
      "iteration 400 / 2000: loss 2.302587\n",
      "iteration 500 / 2000: loss 2.302559\n",
      "iteration 600 / 2000: loss 2.302611\n",
      "iteration 700 / 2000: loss 2.302595\n",
      "iteration 800 / 2000: loss 2.302605\n",
      "iteration 900 / 2000: loss 2.302662\n",
      "iteration 1000 / 2000: loss 2.302599\n",
      "iteration 1100 / 2000: loss 2.302645\n",
      "iteration 1200 / 2000: loss 2.302587\n",
      "iteration 1300 / 2000: loss 2.302628\n",
      "iteration 1400 / 2000: loss 2.302666\n",
      "iteration 1500 / 2000: loss 2.302529\n",
      "iteration 1600 / 2000: loss 2.302639\n",
      "iteration 1700 / 2000: loss 2.302572\n",
      "iteration 1800 / 2000: loss 2.302603\n",
      "iteration 1900 / 2000: loss 2.302590\n",
      "new search begin:\n",
      "iteration 0 / 2000: loss 2.302749\n",
      "iteration 100 / 2000: loss 2.302738\n",
      "iteration 200 / 2000: loss 2.302691\n",
      "iteration 300 / 2000: loss 2.302738\n",
      "iteration 400 / 2000: loss 2.302694\n",
      "iteration 500 / 2000: loss 2.302704\n",
      "iteration 600 / 2000: loss 2.302719\n",
      "iteration 700 / 2000: loss 2.302647\n",
      "iteration 800 / 2000: loss 2.302689\n",
      "iteration 900 / 2000: loss 2.302668\n",
      "iteration 1000 / 2000: loss 2.302689\n",
      "iteration 1100 / 2000: loss 2.302638\n",
      "iteration 1200 / 2000: loss 2.302690\n",
      "iteration 1300 / 2000: loss 2.302581\n",
      "iteration 1400 / 2000: loss 2.302640\n",
      "iteration 1500 / 2000: loss 2.302626\n",
      "iteration 1600 / 2000: loss 2.302802\n",
      "iteration 1700 / 2000: loss 2.302613\n",
      "iteration 1800 / 2000: loss 2.302606\n",
      "iteration 1900 / 2000: loss 2.302624\n",
      "new search begin:\n",
      "iteration 0 / 2000: loss 2.302790\n",
      "iteration 100 / 2000: loss 2.302779\n",
      "iteration 200 / 2000: loss 2.302766\n",
      "iteration 300 / 2000: loss 2.302752\n",
      "iteration 400 / 2000: loss 2.302760\n",
      "iteration 500 / 2000: loss 2.302725\n",
      "iteration 600 / 2000: loss 2.302684\n",
      "iteration 700 / 2000: loss 2.302663\n",
      "iteration 800 / 2000: loss 2.302695\n",
      "iteration 900 / 2000: loss 2.302738\n",
      "iteration 1000 / 2000: loss 2.302637\n",
      "iteration 1100 / 2000: loss 2.302654\n",
      "iteration 1200 / 2000: loss 2.302656\n",
      "iteration 1300 / 2000: loss 2.302626\n",
      "iteration 1400 / 2000: loss 2.302683\n",
      "iteration 1500 / 2000: loss 2.302634\n",
      "iteration 1600 / 2000: loss 2.302719\n",
      "iteration 1700 / 2000: loss 2.302683\n",
      "iteration 1800 / 2000: loss 2.302614\n",
      "iteration 1900 / 2000: loss 2.302627\n",
      "new search begin:\n",
      "iteration 0 / 2000: loss 2.302832\n",
      "iteration 100 / 2000: loss 2.302825\n",
      "iteration 200 / 2000: loss 2.302815\n",
      "iteration 300 / 2000: loss 2.302718\n",
      "iteration 400 / 2000: loss 2.302734\n",
      "iteration 500 / 2000: loss 2.302774\n",
      "iteration 600 / 2000: loss 2.302708\n",
      "iteration 700 / 2000: loss 2.302713\n",
      "iteration 800 / 2000: loss 2.302702\n",
      "iteration 900 / 2000: loss 2.302732\n",
      "iteration 1000 / 2000: loss 2.302651\n",
      "iteration 1100 / 2000: loss 2.302652\n",
      "iteration 1200 / 2000: loss 2.302639\n",
      "iteration 1300 / 2000: loss 2.302654\n",
      "iteration 1400 / 2000: loss 2.302654\n",
      "iteration 1500 / 2000: loss 2.302572\n",
      "iteration 1600 / 2000: loss 2.302591\n",
      "iteration 1700 / 2000: loss 2.302686\n",
      "iteration 1800 / 2000: loss 2.302631\n",
      "iteration 1900 / 2000: loss 2.302653\n"
     ]
    }
   ],
   "source": [
    "from cs231n.classifiers.neural_net import TwoLayerNet\n",
    "\n",
    "input_dim = X_train_feats.shape[1]\n",
    "hidden_dim = 500\n",
    "num_classes = 10\n",
    "\n",
    "# net = TwoLayerNet(input_dim, hidden_dim, num_classes)\n",
    "best_net = None\n",
    "best_val = -1\n",
    "################################################################################\n",
    "# TODO: Train a two-layer neural network on image features. You may want to    #\n",
    "# cross-validate various parameters as in previous sections. Store your best   #\n",
    "# model in the best_net variable.                                              #\n",
    "################################################################################\n",
    "learning_rates = [1e-7, 5e-7,1e-2,1e-3]\n",
    "regularization_strengths = [2e3,1e1,0.4,0.5,0.6]\n",
    "for l in learning_rates:\n",
    "    for r in regularization_strengths:\n",
    "        print(\"new search begin:\")\n",
    "        net = TwoLayerNet(input_dim, hidden_dim, num_classes)\n",
    "        stats = net.train(X_train_feats, y_train, X_val_feats, y_val,\n",
    "            num_iters=2000, batch_size=200,\n",
    "            learning_rate=l, learning_rate_decay=0.95,\n",
    "            reg=r, verbose=True)\n",
    "        val_acc = (net.predict(X_val_feats) == y_val).mean()\n",
    "        if val_acc > best_val:\n",
    "            best_val = val_acc\n",
    "            best_net = net\n",
    "################################################################################\n",
    "#                              END OF YOUR CODE                                #\n",
    "################################################################################"
   ]
  },
  {
   "cell_type": "code",
   "execution_count": 17,
   "metadata": {
    "ExecuteTime": {
     "end_time": "2019-02-26T01:59:04.421001Z",
     "start_time": "2019-02-26T01:59:04.300001Z"
    }
   },
   "outputs": [
    {
     "name": "stdout",
     "output_type": "stream",
     "text": [
      "0.11\n"
     ]
    }
   ],
   "source": [
    "# Run your best neural net classifier on the test set. You should be able\n",
    "# to get more than 55% accuracy.\n",
    "\n",
    "test_acc = (best_net.predict(X_test_feats) == y_test).mean()\n",
    "print(test_acc)"
   ]
  }
 ],
 "metadata": {
  "kernelspec": {
   "display_name": "Python 3",
   "language": "python",
   "name": "python3"
  },
  "language_info": {
   "codemirror_mode": {
    "name": "ipython",
    "version": 3
   },
   "file_extension": ".py",
   "mimetype": "text/x-python",
   "name": "python",
   "nbconvert_exporter": "python",
   "pygments_lexer": "ipython3",
   "version": "3.5.6"
  },
  "toc": {
   "base_numbering": 1,
   "nav_menu": {},
   "number_sections": true,
   "sideBar": true,
   "skip_h1_title": false,
   "title_cell": "Table of Contents",
   "title_sidebar": "Contents",
   "toc_cell": false,
   "toc_position": {},
   "toc_section_display": true,
   "toc_window_display": false
  },
  "varInspector": {
   "cols": {
    "lenName": 16,
    "lenType": 16,
    "lenVar": 40
   },
   "kernels_config": {
    "python": {
     "delete_cmd_postfix": "",
     "delete_cmd_prefix": "del ",
     "library": "var_list.py",
     "varRefreshCmd": "print(var_dic_list())"
    },
    "r": {
     "delete_cmd_postfix": ") ",
     "delete_cmd_prefix": "rm(",
     "library": "var_list.r",
     "varRefreshCmd": "cat(var_dic_list()) "
    }
   },
   "oldHeight": 411.903818,
   "position": {
    "height": "40px",
    "left": "1375.45px",
    "right": "20px",
    "top": "120px",
    "width": "358.182px"
   },
   "types_to_exclude": [
    "module",
    "function",
    "builtin_function_or_method",
    "instance",
    "_Feature"
   ],
   "varInspector_section_display": "none",
   "window_display": true
  }
 },
 "nbformat": 4,
 "nbformat_minor": 1
}
