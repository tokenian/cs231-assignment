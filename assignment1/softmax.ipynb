{
 "cells": [
  {
   "cell_type": "markdown",
   "metadata": {},
   "source": [
    "# Softmax exercise\n",
    "\n",
    "*Complete and hand in this completed worksheet (including its outputs and any supporting code outside of the worksheet) with your assignment submission. For more details see the [assignments page](http://vision.stanford.edu/teaching/cs231n/assignments.html) on the course website.*\n",
    "\n",
    "This exercise is analogous to the SVM exercise. You will:\n",
    "\n",
    "- implement a fully-vectorized **loss function** for the Softmax classifier\n",
    "- implement the fully-vectorized expression for its **analytic gradient**\n",
    "- **check your implementation** with numerical gradient\n",
    "- use a validation set to **tune the learning rate and regularization** strength\n",
    "- **optimize** the loss function with **SGD**\n",
    "- **visualize** the final learned weights\n"
   ]
  },
  {
   "cell_type": "code",
   "execution_count": 2,
   "metadata": {
    "ExecuteTime": {
     "end_time": "2019-02-19T02:06:26.933203Z",
     "start_time": "2019-02-19T02:06:26.869203Z"
    }
   },
   "outputs": [
    {
     "name": "stdout",
     "output_type": "stream",
     "text": [
      "The autoreload extension is already loaded. To reload it, use:\n",
      "  %reload_ext autoreload\n"
     ]
    }
   ],
   "source": [
    "import random\n",
    "import numpy as np\n",
    "from cs231n.data_utils import load_CIFAR10\n",
    "import matplotlib.pyplot as plt\n",
    "\n",
    "from __future__ import print_function\n",
    "\n",
    "%matplotlib inline\n",
    "plt.rcParams['figure.figsize'] = (20.0, 16.0) # set default size of plots\n",
    "plt.rcParams['image.interpolation'] = 'nearest'\n",
    "plt.rcParams['image.cmap'] = 'gray'\n",
    "\n",
    "# for auto-reloading extenrnal modules\n",
    "# see http://stackoverflow.com/questions/1907993/autoreload-of-modules-in-ipython\n",
    "%load_ext autoreload\n",
    "%autoreload 2"
   ]
  },
  {
   "cell_type": "code",
   "execution_count": 3,
   "metadata": {
    "ExecuteTime": {
     "end_time": "2019-02-19T02:06:41.334203Z",
     "start_time": "2019-02-19T02:06:30.446203Z"
    }
   },
   "outputs": [
    {
     "name": "stdout",
     "output_type": "stream",
     "text": [
      "Train data shape:  (49000, 3073)\n",
      "Train labels shape:  (49000,)\n",
      "Validation data shape:  (1000, 3073)\n",
      "Validation labels shape:  (1000,)\n",
      "Test data shape:  (1000, 3073)\n",
      "Test labels shape:  (1000,)\n",
      "dev data shape:  (500, 3073)\n",
      "dev labels shape:  (500,)\n"
     ]
    }
   ],
   "source": [
    "def get_CIFAR10_data(num_training=49000, num_validation=1000, num_test=1000, num_dev=500):\n",
    "    \"\"\"\n",
    "    Load the CIFAR-10 dataset from disk and perform preprocessing to prepare\n",
    "    it for the linear classifier. These are the same steps as we used for the\n",
    "    SVM, but condensed to a single function.  \n",
    "    \"\"\"\n",
    "    # Load the raw CIFAR-10 data\n",
    "    cifar10_dir = 'cs231n/datasets/cifar-10-batches-py'\n",
    "    \n",
    "    X_train, y_train, X_test, y_test = load_CIFAR10(cifar10_dir)\n",
    "    \n",
    "    # subsample the data\n",
    "    mask = list(range(num_training, num_training + num_validation))\n",
    "    X_val = X_train[mask]\n",
    "    y_val = y_train[mask]\n",
    "    mask = list(range(num_training))\n",
    "    X_train = X_train[mask]\n",
    "    y_train = y_train[mask]\n",
    "    mask = list(range(num_test))\n",
    "    X_test = X_test[mask]\n",
    "    y_test = y_test[mask]\n",
    "    mask = np.random.choice(num_training, num_dev, replace=False)\n",
    "    X_dev = X_train[mask]\n",
    "    y_dev = y_train[mask]\n",
    "    \n",
    "    # Preprocessing: reshape the image data into rows\n",
    "    X_train = np.reshape(X_train, (X_train.shape[0], -1))\n",
    "    X_val = np.reshape(X_val, (X_val.shape[0], -1))\n",
    "    X_test = np.reshape(X_test, (X_test.shape[0], -1))\n",
    "    X_dev = np.reshape(X_dev, (X_dev.shape[0], -1))\n",
    "    \n",
    "    # Normalize the data: subtract the mean image\n",
    "    mean_image = np.mean(X_train, axis = 0)\n",
    "    X_train -= mean_image\n",
    "    X_val -= mean_image\n",
    "    X_test -= mean_image\n",
    "    X_dev -= mean_image\n",
    "    \n",
    "    # add bias dimension and transform into columns\n",
    "    X_train = np.hstack([X_train, np.ones((X_train.shape[0], 1))])\n",
    "    X_val = np.hstack([X_val, np.ones((X_val.shape[0], 1))])\n",
    "    X_test = np.hstack([X_test, np.ones((X_test.shape[0], 1))])\n",
    "    X_dev = np.hstack([X_dev, np.ones((X_dev.shape[0], 1))])\n",
    "    \n",
    "    return X_train, y_train, X_val, y_val, X_test, y_test, X_dev, y_dev\n",
    "\n",
    "\n",
    "# Cleaning up variables to prevent loading data multiple times (which may cause memory issue)\n",
    "try:\n",
    "   del X_train, y_train\n",
    "   del X_test, y_test\n",
    "   print('Clear previously loaded data.')\n",
    "except:\n",
    "   pass\n",
    "\n",
    "# Invoke the above function to get our data.\n",
    "X_train, y_train, X_val, y_val, X_test, y_test, X_dev, y_dev = get_CIFAR10_data()\n",
    "print('Train data shape: ', X_train.shape)\n",
    "print('Train labels shape: ', y_train.shape)\n",
    "print('Validation data shape: ', X_val.shape)\n",
    "print('Validation labels shape: ', y_val.shape)\n",
    "print('Test data shape: ', X_test.shape)\n",
    "print('Test labels shape: ', y_test.shape)\n",
    "print('dev data shape: ', X_dev.shape)\n",
    "print('dev labels shape: ', y_dev.shape)"
   ]
  },
  {
   "cell_type": "markdown",
   "metadata": {},
   "source": [
    "## Softmax Classifier\n",
    "\n",
    "Your code for this section will all be written inside **cs231n/classifiers/softmax.py**. \n"
   ]
  },
  {
   "cell_type": "code",
   "execution_count": 16,
   "metadata": {
    "ExecuteTime": {
     "end_time": "2019-02-19T03:13:27.950203Z",
     "start_time": "2019-02-19T03:13:27.759203Z"
    }
   },
   "outputs": [
    {
     "name": "stdout",
     "output_type": "stream",
     "text": [
      "loss: 2.337737\n",
      "sanity check: 2.302585\n"
     ]
    }
   ],
   "source": [
    "# First implement the naive softmax loss function with nested loops.\n",
    "# Open the file cs231n/classifiers/softmax.py and implement the\n",
    "# softmax_loss_naive function.\n",
    "\n",
    "from cs231n.classifiers.softmax import softmax_loss_naive\n",
    "import time\n",
    "\n",
    "# Generate a random softmax weight matrix and use it to compute the loss.\n",
    "W = np.random.randn(3073, 10) * 0.0001\n",
    "loss, grad = softmax_loss_naive(W, X_dev, y_dev, 0.0)\n",
    "\n",
    "# As a rough sanity check, our loss should be something close to -log(0.1).\n",
    "print('loss: %f' % loss)\n",
    "print('sanity check: %f' % (-np.log(0.1)))"
   ]
  },
  {
   "cell_type": "markdown",
   "metadata": {},
   "source": [
    "## Inline Question 1:\n",
    "Why do we expect our loss to be close to -log(0.1)? Explain briefly.**\n",
    "\n",
    "**Your answer:** it's 10 classes classfication, so the minimum score is 0.1 that the badest result we will get. if the loss is bigger than that, something wrong with our algorithm.\n"
   ]
  },
  {
   "cell_type": "code",
   "execution_count": 56,
   "metadata": {
    "ExecuteTime": {
     "end_time": "2019-02-19T05:19:09.813203Z",
     "start_time": "2019-02-19T05:19:05.694203Z"
    }
   },
   "outputs": [
    {
     "name": "stdout",
     "output_type": "stream",
     "text": [
      "numerical: 0.919191 analytic: 0.919191, relative error: 6.042994e-10\n",
      "numerical: 4.716107 analytic: 4.716106, relative error: 1.695318e-08\n",
      "numerical: 4.534621 analytic: 4.534620, relative error: 1.690975e-08\n",
      "numerical: 4.196776 analytic: 4.196776, relative error: 1.837419e-08\n",
      "numerical: 1.377812 analytic: 1.377812, relative error: 2.656965e-08\n",
      "numerical: 1.297790 analytic: 1.297790, relative error: 2.344402e-08\n",
      "numerical: 0.295149 analytic: 0.295149, relative error: 1.006797e-07\n",
      "numerical: -0.588105 analytic: -0.588105, relative error: 1.776614e-08\n",
      "numerical: 2.004307 analytic: 2.004307, relative error: 2.105065e-08\n",
      "numerical: 2.414446 analytic: 2.414446, relative error: 2.682340e-08\n",
      "with regularation\n",
      "numerical: 0.953354 analytic: 0.953354, relative error: 3.906024e-08\n",
      "numerical: -0.305990 analytic: -0.305990, relative error: 5.076517e-08\n",
      "numerical: 2.239656 analytic: 2.239656, relative error: 2.498298e-08\n",
      "numerical: -2.904903 analytic: -2.904903, relative error: 6.235310e-09\n",
      "numerical: 0.460166 analytic: 0.460166, relative error: 1.179174e-07\n",
      "numerical: -2.996948 analytic: -2.996947, relative error: 4.318529e-09\n",
      "numerical: -3.297612 analytic: -3.297612, relative error: 3.563535e-09\n",
      "numerical: -3.397385 analytic: -3.397385, relative error: 1.021487e-09\n",
      "numerical: 3.111455 analytic: 3.111455, relative error: 2.162727e-08\n",
      "numerical: -0.838961 analytic: -0.838961, relative error: 2.709308e-09\n"
     ]
    }
   ],
   "source": [
    "# Complete the implementation of softmax_loss_naive and implement a (naive)\n",
    "# version of the gradient that uses nested loops.\n",
    "loss, grad = softmax_loss_naive(W, X_dev, y_dev, 0.0)\n",
    "\n",
    "# As we did for the SVM, use numeric gradient checking as a debugging tool.\n",
    "# The numeric gradient should be close to the analytic gradient.\n",
    "from cs231n.gradient_check import grad_check_sparse\n",
    "f = lambda w: softmax_loss_naive(w, X_dev, y_dev, 0.0)[0]\n",
    "grad_numerical = grad_check_sparse(f, W, grad, 10)\n",
    "print(\"with regularation\")\n",
    "# similar to SVM case, do another gradient check with regularization\n",
    "loss, grad = softmax_loss_naive(W, X_dev, y_dev, 5e1)\n",
    "f = lambda w: softmax_loss_naive(w, X_dev, y_dev, 5e1)[0]\n",
    "grad_numerical = grad_check_sparse(f, W, grad, 10)"
   ]
  },
  {
   "cell_type": "code",
   "execution_count": 47,
   "metadata": {
    "ExecuteTime": {
     "end_time": "2019-02-19T04:58:49.886203Z",
     "start_time": "2019-02-19T04:58:49.775203Z"
    }
   },
   "outputs": [
    {
     "data": {
      "text/plain": [
       "7"
      ]
     },
     "execution_count": 47,
     "metadata": {},
     "output_type": "execute_result"
    }
   ],
   "source": [
    "y_dev[0]"
   ]
  },
  {
   "cell_type": "code",
   "execution_count": 27,
   "metadata": {
    "ExecuteTime": {
     "end_time": "2019-02-19T03:57:35.090203Z",
     "start_time": "2019-02-19T03:57:34.974203Z"
    }
   },
   "outputs": [
    {
     "data": {
      "text/plain": [
       "array([-0.01719669, -0.03254013, -0.02769828,  0.21184655, -0.0233837 ,\n",
       "       -0.0245271 , -0.01709635, -0.01918019, -0.02366904, -0.02655508])"
      ]
     },
     "execution_count": 27,
     "metadata": {},
     "output_type": "execute_result"
    }
   ],
   "source": [
    "grad_naive[0]"
   ]
  },
  {
   "cell_type": "code",
   "execution_count": 28,
   "metadata": {
    "ExecuteTime": {
     "end_time": "2019-02-19T03:57:47.035203Z",
     "start_time": "2019-02-19T03:57:46.926203Z"
    }
   },
   "outputs": [
    {
     "data": {
      "text/plain": [
       "array([-2.04763719, -2.62959387,  1.39385902,  1.82389539,  1.57016651,\n",
       "        1.93126529,  4.61636868, -0.49892555, -1.88991812, -4.26948017])"
      ]
     },
     "execution_count": 28,
     "metadata": {},
     "output_type": "execute_result"
    }
   ],
   "source": [
    "grad_vectorized[0]"
   ]
  },
  {
   "cell_type": "code",
   "execution_count": 57,
   "metadata": {
    "ExecuteTime": {
     "end_time": "2019-02-19T05:19:27.176203Z",
     "start_time": "2019-02-19T05:19:26.942203Z"
    }
   },
   "outputs": [
    {
     "name": "stdout",
     "output_type": "stream",
     "text": [
      "naive loss: 2.337737e+00 computed in 0.120000s\n",
      "vectorized loss: 2.337737e+00 computed in 0.003000s\n",
      "Loss difference: 0.000000\n",
      "Gradient difference: 0.000000\n"
     ]
    }
   ],
   "source": [
    "# Now that we have a naive implementation of the softmax loss function and its gradient,\n",
    "# implement a vectorized version in softmax_loss_vectorized.\n",
    "# The two versions should compute the same results, but the vectorized version should be\n",
    "# much faster.\n",
    "tic = time.time()\n",
    "loss_naive, grad_naive = softmax_loss_naive(W, X_dev, y_dev, 0.000005)\n",
    "toc = time.time()\n",
    "print('naive loss: %e computed in %fs' % (loss_naive, toc - tic))\n",
    "\n",
    "from cs231n.classifiers.softmax import softmax_loss_vectorized\n",
    "tic = time.time()\n",
    "loss_vectorized, grad_vectorized = softmax_loss_vectorized(W, X_dev, y_dev, 0.000005)\n",
    "toc = time.time()\n",
    "print('vectorized loss: %e computed in %fs' % (loss_vectorized, toc - tic))\n",
    "\n",
    "# As we did for the SVM, we use the Frobenius norm to compare the two versions\n",
    "# of the gradient.\n",
    "grad_difference = np.linalg.norm(grad_naive - grad_vectorized, ord='fro')\n",
    "print('Loss difference: %f' % np.abs(loss_naive - loss_vectorized))\n",
    "print('Gradient difference: %f' % grad_difference)"
   ]
  },
  {
   "cell_type": "code",
   "execution_count": 58,
   "metadata": {
    "ExecuteTime": {
     "end_time": "2019-02-19T05:33:07.390203Z",
     "start_time": "2019-02-19T05:32:44.751203Z"
    }
   },
   "outputs": [
    {
     "name": "stdout",
     "output_type": "stream",
     "text": [
      "new search begin:\n",
      "iteration 0 / 1500: loss 396.058299\n",
      "iteration 100 / 1500: loss 239.551491\n",
      "iteration 200 / 1500: loss 145.615084\n",
      "iteration 300 / 1500: loss 88.806492\n",
      "iteration 400 / 1500: loss 54.529850\n",
      "iteration 500 / 1500: loss 33.770578\n",
      "iteration 600 / 1500: loss 21.152402\n",
      "iteration 700 / 1500: loss 13.634136\n",
      "iteration 800 / 1500: loss 9.108489\n",
      "iteration 900 / 1500: loss 6.236779\n",
      "iteration 1000 / 1500: loss 4.530290\n",
      "iteration 1100 / 1500: loss 3.586848\n",
      "iteration 1200 / 1500: loss 2.998073\n",
      "iteration 1300 / 1500: loss 2.583274\n",
      "iteration 1400 / 1500: loss 2.294119\n",
      "new search begin:\n",
      "iteration 0 / 1500: loss 780.318211\n",
      "iteration 100 / 1500: loss 286.236891\n",
      "iteration 200 / 1500: loss 106.027085\n",
      "iteration 300 / 1500: loss 40.160353\n",
      "iteration 400 / 1500: loss 15.922061\n",
      "iteration 500 / 1500: loss 7.176747\n",
      "iteration 600 / 1500: loss 3.900698\n",
      "iteration 700 / 1500: loss 2.774369\n",
      "iteration 800 / 1500: loss 2.331393\n",
      "iteration 900 / 1500: loss 2.112422\n",
      "iteration 1000 / 1500: loss 2.066410\n",
      "iteration 1100 / 1500: loss 2.097371\n",
      "iteration 1200 / 1500: loss 2.108936\n",
      "iteration 1300 / 1500: loss 2.119724\n",
      "iteration 1400 / 1500: loss 2.118272\n",
      "new search begin:\n",
      "iteration 0 / 1500: loss 390.198364\n",
      "iteration 100 / 1500: loss 32.890915\n",
      "iteration 200 / 1500: loss 4.582221\n",
      "iteration 300 / 1500: loss 2.285415\n",
      "iteration 400 / 1500: loss 2.057932\n",
      "iteration 500 / 1500: loss 2.050956\n",
      "iteration 600 / 1500: loss 1.986168\n",
      "iteration 700 / 1500: loss 2.033410\n",
      "iteration 800 / 1500: loss 2.035132\n",
      "iteration 900 / 1500: loss 2.050771\n",
      "iteration 1000 / 1500: loss 1.941461\n",
      "iteration 1100 / 1500: loss 2.029350\n",
      "iteration 1200 / 1500: loss 2.015695\n",
      "iteration 1300 / 1500: loss 1.990430\n",
      "iteration 1400 / 1500: loss 2.018777\n",
      "new search begin:\n",
      "iteration 0 / 1500: loss 772.527785\n",
      "iteration 100 / 1500: loss 6.910864\n",
      "iteration 200 / 1500: loss 2.127224\n",
      "iteration 300 / 1500: loss 2.058575\n",
      "iteration 400 / 1500: loss 2.039899\n",
      "iteration 500 / 1500: loss 2.047994\n",
      "iteration 600 / 1500: loss 2.065442\n",
      "iteration 700 / 1500: loss 2.044270\n",
      "iteration 800 / 1500: loss 2.121843\n",
      "iteration 900 / 1500: loss 2.046013\n",
      "iteration 1000 / 1500: loss 2.060324\n",
      "iteration 1100 / 1500: loss 2.073870\n",
      "iteration 1200 / 1500: loss 2.110803\n",
      "iteration 1300 / 1500: loss 2.083652\n",
      "iteration 1400 / 1500: loss 2.072588\n",
      "lr 1.000000e-07 reg 2.500000e+04 train accuracy: 0.348531 val accuracy: 0.370000\n",
      "lr 1.000000e-07 reg 5.000000e+04 train accuracy: 0.326041 val accuracy: 0.341000\n",
      "lr 5.000000e-07 reg 2.500000e+04 train accuracy: 0.352041 val accuracy: 0.363000\n",
      "lr 5.000000e-07 reg 5.000000e+04 train accuracy: 0.328633 val accuracy: 0.331000\n",
      "best validation accuracy achieved during cross-validation: 0.370000\n"
     ]
    }
   ],
   "source": [
    "# Use the validation set to tune hyperparameters (regularization strength and\n",
    "# learning rate). You should experiment with different ranges for the learning\n",
    "# rates and regularization strengths; if you are careful you should be able to\n",
    "# get a classification accuracy of over 0.35 on the validation set.\n",
    "from cs231n.classifiers import Softmax\n",
    "results = {}\n",
    "best_val = -1\n",
    "best_softmax = None\n",
    "learning_rates = [1e-7, 5e-7]\n",
    "regularization_strengths = [2.5e4, 5e4]\n",
    "\n",
    "################################################################################\n",
    "# TODO:                                                                        #\n",
    "# Use the validation set to set the learning rate and regularization strength. #\n",
    "# This should be identical to the validation that you did for the SVM; save    #\n",
    "# the best trained softmax classifer in best_softmax.                          #\n",
    "################################################################################\n",
    "for l in learning_rates:\n",
    "    for r in regularization_strengths:\n",
    "        print(\"new search begin:\")\n",
    "        cv_sm = Softmax()\n",
    "        cv_sm.train(X_train, y_train, learning_rate=l, reg=r,\n",
    "                      num_iters=1500, verbose=True)\n",
    "        y_train_pred = cv_sm.predict(X_train)\n",
    "        y_val_pred = cv_sm.predict(X_val)\n",
    "        train_score = np.mean(y_train == y_train_pred)\n",
    "        val_score = np.mean(y_val == y_val_pred)\n",
    "        results[(l,r)] = (train_score, val_score)\n",
    "\n",
    "        if val_score > best_val:\n",
    "            best_val = val_score\n",
    "            best_softmax = cv_sm\n",
    "################################################################################\n",
    "#                              END OF YOUR CODE                                #\n",
    "################################################################################\n",
    "    \n",
    "# Print out results.\n",
    "for lr, reg in sorted(results):\n",
    "    train_accuracy, val_accuracy = results[(lr, reg)]\n",
    "    print('lr %e reg %e train accuracy: %f val accuracy: %f' % (\n",
    "                lr, reg, train_accuracy, val_accuracy))\n",
    "    \n",
    "print('best validation accuracy achieved during cross-validation: %f' % best_val)"
   ]
  },
  {
   "cell_type": "code",
   "execution_count": 59,
   "metadata": {
    "ExecuteTime": {
     "end_time": "2019-02-19T05:33:17.244203Z",
     "start_time": "2019-02-19T05:33:17.134203Z"
    }
   },
   "outputs": [
    {
     "name": "stdout",
     "output_type": "stream",
     "text": [
      "softmax on raw pixels final test set accuracy: 0.362000\n"
     ]
    }
   ],
   "source": [
    "# evaluate on test set\n",
    "# Evaluate the best softmax on test set\n",
    "y_test_pred = best_softmax.predict(X_test)\n",
    "test_accuracy = np.mean(y_test == y_test_pred)\n",
    "print('softmax on raw pixels final test set accuracy: %f' % (test_accuracy, ))"
   ]
  },
  {
   "cell_type": "markdown",
   "metadata": {},
   "source": [
    "**Inline Question** - *True or False*\n",
    "\n",
    "It's possible to add a new datapoint to a training set that would leave the SVM loss unchanged, but this is not the case with the Softmax classifier loss.\n",
    "\n",
    "*Your answer*: False\n",
    "\n",
    "*Your explanation*: cross entropy loss only compute the correct label exponential score ,but it use all of the point data. so the loss will change, the classification may keep unchanged."
   ]
  },
  {
   "cell_type": "code",
   "execution_count": 60,
   "metadata": {
    "ExecuteTime": {
     "end_time": "2019-02-19T05:33:31.075203Z",
     "start_time": "2019-02-19T05:33:30.237203Z"
    }
   },
   "outputs": [
    {
     "data": {
      "image/png": "[encoded data removed]",
      "text/plain": [
       "<Figure size 1440x1152 with 10 Axes>"
      ]
     },
     "metadata": {
      "needs_background": "light"
     },
     "output_type": "display_data"
    }
   ],
   "source": [
    "# Visualize the learned weights for each class\n",
    "w = best_softmax.W[:-1,:] # strip out the bias\n",
    "w = w.reshape(32, 32, 3, 10)\n",
    "\n",
    "w_min, w_max = np.min(w), np.max(w)\n",
    "\n",
    "classes = ['plane', 'car', 'bird', 'cat', 'deer', 'dog', 'frog', 'horse', 'ship', 'truck']\n",
    "for i in range(10):\n",
    "    plt.subplot(2, 5, i + 1)\n",
    "    \n",
    "    # Rescale the weights to be between 0 and 255\n",
    "    wimg = 255.0 * (w[:, :, :, i].squeeze() - w_min) / (w_max - w_min)\n",
    "    plt.imshow(wimg.astype('uint8'))\n",
    "    plt.axis('off')\n",
    "    plt.title(classes[i])"
   ]
  }
 ],
 "metadata": {
  "kernelspec": {
   "display_name": "Python 3",
   "language": "python",
   "name": "python3"
  },
  "language_info": {
   "codemirror_mode": {
    "name": "ipython",
    "version": 3
   },
   "file_extension": ".py",
   "mimetype": "text/x-python",
   "name": "python",
   "nbconvert_exporter": "python",
   "pygments_lexer": "ipython3",
   "version": "3.5.6"
  },
  "toc": {
   "base_numbering": 1,
   "nav_menu": {},
   "number_sections": true,
   "sideBar": true,
   "skip_h1_title": false,
   "title_cell": "Table of Contents",
   "title_sidebar": "Contents",
   "toc_cell": false,
   "toc_position": {},
   "toc_section_display": true,
   "toc_window_display": false
  },
  "varInspector": {
   "cols": {
    "lenName": 16,
    "lenType": 16,
    "lenVar": 40
   },
   "kernels_config": {
    "python": {
     "delete_cmd_postfix": "",
     "delete_cmd_prefix": "del ",
     "library": "var_list.py",
     "varRefreshCmd": "print(var_dic_list())"
    },
    "r": {
     "delete_cmd_postfix": ") ",
     "delete_cmd_prefix": "rm(",
     "library": "var_list.r",
     "varRefreshCmd": "cat(var_dic_list()) "
    }
   },
   "types_to_exclude": [
    "module",
    "function",
    "builtin_function_or_method",
    "instance",
    "_Feature"
   ],
   "window_display": false
  }
 },
 "nbformat": 4,
 "nbformat_minor": 1
}
